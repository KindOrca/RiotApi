{
 "cells": [
  {
   "cell_type": "code",
   "execution_count": 4,
   "metadata": {},
   "outputs": [
    {
     "name": "stdout",
     "output_type": "stream",
     "text": [
      "{'status': {'message': 'Forbidden', 'status_code': 403}}\n"
     ]
    },
    {
     "ename": "KeyError",
     "evalue": "'id'",
     "output_type": "error",
     "traceback": [
      "\u001b[1;31m---------------------------------------------------------------------------\u001b[0m",
      "\u001b[1;31mKeyError\u001b[0m                                  Traceback (most recent call last)",
      "Cell \u001b[1;32mIn[4], line 19\u001b[0m\n\u001b[0;32m     17\u001b[0m summoner_data \u001b[38;5;241m=\u001b[39m response\u001b[38;5;241m.\u001b[39mjson()\n\u001b[0;32m     18\u001b[0m \u001b[38;5;28mprint\u001b[39m(summoner_data)\n\u001b[1;32m---> 19\u001b[0m summoner_id \u001b[38;5;241m=\u001b[39m \u001b[43msummoner_data\u001b[49m\u001b[43m[\u001b[49m\u001b[38;5;124;43m'\u001b[39;49m\u001b[38;5;124;43mid\u001b[39;49m\u001b[38;5;124;43m'\u001b[39;49m\u001b[43m]\u001b[49m\n\u001b[0;32m     21\u001b[0m \u001b[38;5;66;03m# 매치 리스트 가져오기\u001b[39;00m\n\u001b[0;32m     22\u001b[0m matches_url \u001b[38;5;241m=\u001b[39m \u001b[38;5;124mf\u001b[39m\u001b[38;5;124m'\u001b[39m\u001b[38;5;124mhttps://\u001b[39m\u001b[38;5;132;01m{\u001b[39;00mregion\u001b[38;5;132;01m}\u001b[39;00m\u001b[38;5;124m.api.riotgames.com/lol/match/v4/matchlists/by-account/\u001b[39m\u001b[38;5;132;01m{\u001b[39;00msummoner_id\u001b[38;5;132;01m}\u001b[39;00m\u001b[38;5;124m'\u001b[39m\n",
      "\u001b[1;31mKeyError\u001b[0m: 'id'"
     ]
    }
   ],
   "source": [
    "import requests\n",
    "import pandas as pd\n",
    "\n",
    "# Riot API 키 설정\n",
    "api_key = 'RGAPI-df276c30-6a3a-445c-aa0e-e28dcd04e63d'\n",
    "headers = {\n",
    "    'X-Riot-Token': api_key\n",
    "}\n",
    "\n",
    "# 챔피언 매치 정보 가져오기 (예시: 챔피언 1번의 최근 매치)\n",
    "summoner_name = '키보드에음료쏟아서고장내는이도윤'  # 소환사 이름\n",
    "region = 'ASIA'  # 지역 코드\n",
    "url = f'https://{region}.api.riotgames.com/lol/summoner/v4/summoners/by-name/{summoner_name}'\n",
    "\n",
    "# 소환사 ID 얻기\n",
    "response = requests.get(url, headers=headers)\n",
    "summoner_data = response.json()\n",
    "summoner_id = summoner_data['id']\n",
    "\n",
    "# 매치 리스트 가져오기\n",
    "matches_url = f'https://{region}.api.riotgames.com/lol/match/v4/matchlists/by-account/{summoner_id}'\n",
    "matches_response = requests.get(matches_url, headers=headers)\n",
    "matches_data = matches_response.json()\n",
    "\n",
    "# 데이터프레임으로 변환\n",
    "matches_df = pd.DataFrame(matches_data['matches'])"
   ]
  },
  {
   "cell_type": "code",
   "execution_count": null,
   "metadata": {},
   "outputs": [],
   "source": [
    "# 데이터프레임을 CSV 파일로 저장\n",
    "csv_filename = 'matches.csv'\n",
    "matches_df.to_csv(csv_filename, index=False)\n",
    "print(f'Data saved to {csv_filename}')"
   ]
  },
  {
   "cell_type": "code",
   "execution_count": null,
   "metadata": {},
   "outputs": [],
   "source": [
    "from kafka import KafkaProducer\n",
    "import json\n",
    "\n",
    "# Kafka 프로듀서 설정\n",
    "producer = KafkaProducer(\n",
    "    bootstrap_servers='localhost:9092',\n",
    "    value_serializer=lambda v: json.dumps(v).encode('utf-8')\n",
    ")\n",
    "\n",
    "# CSV 파일을 읽어와서 Kafka로 전송\n",
    "csv_data = pd.read_csv(csv_filename)\n",
    "\n",
    "for index, row in csv_data.iterrows():\n",
    "    # 필요한 정보를 JSON 형식으로 변환하여 전송\n",
    "    message = row.to_dict()\n",
    "    producer.send('riot-matches', message)\n",
    "\n",
    "producer.flush()\n",
    "producer.close()\n",
    "print(\"Data sent to Kafka\")"
   ]
  },
  {
   "cell_type": "code",
   "execution_count": null,
   "metadata": {},
   "outputs": [],
   "source": [
    "\n",
    "from kafka import KafkaConsumer\n",
    "from hdfs import InsecureClient\n",
    "\n",
    "# Kafka 컨슈머 설정\n",
    "consumer = KafkaConsumer(\n",
    "    'riot-matches',\n",
    "    bootstrap_servers='localhost:9092',\n",
    "    auto_offset_reset='earliest',\n",
    "    group_id='riot-group',\n",
    "    value_deserializer=lambda x: json.loads(x.decode('utf-8'))\n",
    ")\n",
    "\n",
    "# HDFS 클라이언트 설정\n",
    "hdfs_client = InsecureClient('http://localhost:50070', user='your_hadoop_user')\n",
    "\n",
    "# 데이터 HDFS에 저장\n",
    "hdfs_file_path = '/user/your_hadoop_user/riot/matches.csv'\n",
    "\n",
    "with hdfs_client.write(hdfs_file_path, encoding='utf-8') as writer:\n",
    "    for message in consumer:\n",
    "        writer.write(json.dumps(message.value) + '\\n')\n",
    "\n",
    "print(f\"Data written to HDFS at {hdfs_file_path}\")"
   ]
  }
 ],
 "metadata": {
  "kernelspec": {
   "display_name": "myenv",
   "language": "python",
   "name": "python3"
  },
  "language_info": {
   "codemirror_mode": {
    "name": "ipython",
    "version": 3
   },
   "file_extension": ".py",
   "mimetype": "text/x-python",
   "name": "python",
   "nbconvert_exporter": "python",
   "pygments_lexer": "ipython3",
   "version": "3.12.4"
  },
  "orig_nbformat": 4
 },
 "nbformat": 4,
 "nbformat_minor": 2
}
