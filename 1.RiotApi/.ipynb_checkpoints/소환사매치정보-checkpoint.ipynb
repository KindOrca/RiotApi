{
 "cells": [
  {
   "cell_type": "code",
   "execution_count": 37,
   "metadata": {},
   "outputs": [],
   "source": [
    "import requests\n",
    "\n",
    "api_key = \"RGAPI-6ddaa044-8294-44b4-b58a-8abbe94b7ad3\"\n",
    "header = {\"X-Riot-Token\" : api_key}"
   ]
  },
  {
   "cell_type": "code",
   "execution_count": 38,
   "metadata": {},
   "outputs": [],
   "source": [
    "# 소환사 티어별 목록\n",
    "def league_v4_tier(tier):\n",
    "    # 솔랭 기준\n",
    "    queue = \"RANKED_SOLO_5x5\"\n",
    "\n",
    "    if tier == \"challenger\":\n",
    "        url = f\"https://kr.api.riotgames.com/lol/league/v4/challengerleagues/by-queue/{queue}\"\n",
    "    elif tier == \"grandmaster\":\n",
    "        url = f\"https://kr.api.riotgames.com/lol/league/v4/grandmasterleagues/by-queue/{queue}\"\n",
    "    else:\n",
    "        url = f\"https://kr.api.riotgames.com/GET /lol/league/v4/masterleagues/by-queue/{queue}\"\n",
    "\n",
    "    return requests.get(url, headers=header)"
   ]
  },
  {
   "cell_type": "code",
   "execution_count": 39,
   "metadata": {},
   "outputs": [
    {
     "name": "stdout",
     "output_type": "stream",
     "text": [
      "{'summonerId': 'VC19Oe5WNnDwKiiRsniiUOTdgcbHk-aMfpvCKoYTMOKx8ho', 'leaguePoints': 1101, 'rank': 'I', 'wins': 160, 'losses': 119, 'veteran': True, 'inactive': False, 'freshBlood': False, 'hotStreak': False}\n"
     ]
    }
   ],
   "source": [
    "tier = \"challenger\"\n",
    "req = league_v4_tier(tier)\n",
    "\n",
    "if req.status_code == 200:\n",
    "    data = req.json()['entries']\n",
    "print(data[0])"
   ]
  },
  {
   "cell_type": "code",
   "execution_count": 40,
   "metadata": {},
   "outputs": [],
   "source": [
    "# 소환사 정보\n",
    "def summoners(summonerId):\n",
    "    url = f\"https://kr.api.riotgames.com/lol/summoner/v4/summoners/{summonerId}\"\n",
    "\n",
    "    return requests.get(url, headers=header)"
   ]
  },
  {
   "cell_type": "code",
   "execution_count": 41,
   "metadata": {},
   "outputs": [
    {
     "name": "stdout",
     "output_type": "stream",
     "text": [
      "{'id': 'VC19Oe5WNnDwKiiRsniiUOTdgcbHk-aMfpvCKoYTMOKx8ho', 'accountId': '5NFxHXzp82OI2rHGfv36GHm119IRbm-9A1GcTYdSfqUo9pA', 'puuid': '6iHIDcv4BwMG1quuzKBtQTGsO14SGHYzUA7jY8l4UxbaVSBM0JVLH0sCjswL4TuIB0HiCdgMIdao8A', 'profileIconId': 3788, 'revisionDate': 1719955752422, 'summonerLevel': 389}\n"
     ]
    }
   ],
   "source": [
    "summoner_Id = req.json()['entries'][0]['summonerId']\n",
    "req = summoners(summoner_Id)\n",
    "\n",
    "if req.status_code == 200:\n",
    "    data = req.json()\n",
    "    print(data)\n",
    "    puu_id = data['puuid']\n",
    "    accountId = data['accountId']"
   ]
  },
  {
   "cell_type": "code",
   "execution_count": 44,
   "metadata": {},
   "outputs": [],
   "source": [
    "# 소환사별 매치 목록\n",
    "def match_list(puuid, start):\n",
    "    count = 20\n",
    "    url = f\"https://asia.api.riotgames.com/lol/match/v5/matches/by-puuid/{puuid}/ids?startTime=1686708000&endTime=1687186800&type=ranked&start={start}&count={count}\"\n",
    "    \n",
    "    return requests.get(url, headers=header)\n"
   ]
  },
  {
   "cell_type": "code",
   "execution_count": 45,
   "metadata": {},
   "outputs": [
    {
     "name": "stdout",
     "output_type": "stream",
     "text": [
      "KR_6544323982\n",
      "KR_6541426201\n"
     ]
    }
   ],
   "source": [
    "start = 0 \n",
    "req = match_list(puu_id, start)\n",
    "\n",
    "if req.status_code == 200:\n",
    "    data = req.json()\n",
    "    data_cnt = len(data)\n",
    "\n",
    "    for item in data:\n",
    "        print(item)"
   ]
  },
  {
   "cell_type": "code",
   "execution_count": 46,
   "metadata": {},
   "outputs": [],
   "source": [
    "def match(matchId):\n",
    "    url = f\"https://asia.api.riotgames.com/lol/match/v5/matches/{matchId}\"\n",
    "    \n",
    "    return requests.get(url, headers=header)"
   ]
  },
  {
   "cell_type": "code",
   "execution_count": 48,
   "metadata": {},
   "outputs": [],
   "source": [
    "match_id = 'KR_6544323982'\n",
    "req = match(match_id)\n",
    "\n",
    "if req.status_code == 200:\n",
    "    data = req.json()\n",
    "\n",
    "    queue_id = data['info']['queueId'] # 큐 id\n",
    "    game_duration = data['info']['gameDuration'] # 게임 진행 시간\n",
    "    game_start_timestamp = data['info']['gameStartTimestamp'] # 게임 시작 시간\n",
    "    game_end_timestamp = data['info']['gameEndTimestamp'] # 게임 종료 시간\n",
    "\n",
    "\n",
    "# 매치 데이터(포지션/챔피언/킬/데스/어시/CS 등)\n",
    "    participants = data['info']['participants']\n",
    "\n",
    "    for participant in participants:\n",
    "        team_id = participant['teamId'] # 팀 id\n",
    "        summoner_id = participant['summonerId'] # 소환사 id\n",
    "        summoner_name = participant['summonerName'] # 소환사명\n",
    "        summoner_1_id = participant['summoner1Id'] # 소환사 주문1\n",
    "        summoner_2_id = participant['summoner2Id'] # 소환사 주문2\n",
    "        team_position = participant['teamPosition'] # 포지션\n",
    "        champion_id = participant['championId'] # 챔피언 id\n",
    "        kills = participant['kills'] # 킬\n",
    "        deaths = participant['deaths'] # 데스\n",
    "        assists = participant['assists'] # 어시스트\n",
    "        kda = participant['challenges']['kda'] # kda\n",
    "        neutral_minions_killed = participant['neutralMinionsKilled'] # 중립 미니언 처치(정글몹)\n",
    "        total_minions_killed = participant['totalMinionsKilled'] # 미니언 처치\n",
    "\n",
    "        if team_position == 'UTILITY':\n",
    "            team_position = 'SUPPORT'\n",
    "\n",
    "\n",
    "# 팀 데이터\n",
    "    teams = data['info']['teams']\n",
    "\n",
    "    for team in teams:\n",
    "        team_id = team['teamId'] # 팀 id\n",
    "        first_blood = team['objectives']['champion']['first'] # 첫 킬\n",
    "        first_tower = team['objectives']['tower']['first'] # 첫 타워\n",
    "        first_inhibitor = team['objectives']['inhibitor']['first'] # 첫 억제기\n",
    "        first_baron = team['objectives']['baron']['first'] # 첫 바론\n",
    "        first_dragon = team['objectives']['dragon']['first'] # 첫 드래곤\n",
    "        first_rift_herald = team['objectives']['riftHerald']['first'] # 첫 전령\n",
    "        win = team['win'] # 승패\n",
    "        # bans =  team['bans']['championId']\n",
    "        bans = team['bans'] # 밴 목록\n",
    "        bans_lst = []\n",
    "        for ban in bans:\n",
    "            if ban['championId'] != -1:\n",
    "                bans_lst.append(ban['championId'])"
   ]
  },
  {
   "cell_type": "code",
   "execution_count": 51,
   "metadata": {},
   "outputs": [
    {
     "name": "stdout",
     "output_type": "stream",
     "text": [
      "[{'bans': [{'championId': 902, 'pickTurn': 1}, {'championId': 24, 'pickTurn': 2}, {'championId': 350, 'pickTurn': 3}, {'championId': -1, 'pickTurn': 4}, {'championId': 421, 'pickTurn': 5}], 'objectives': {'baron': {'first': False, 'kills': 0}, 'champion': {'first': False, 'kills': 10}, 'dragon': {'first': True, 'kills': 1}, 'inhibitor': {'first': False, 'kills': 0}, 'riftHerald': {'first': False, 'kills': 0}, 'tower': {'first': False, 'kills': 0}}, 'teamId': 100, 'win': False}, {'bans': [{'championId': 902, 'pickTurn': 6}, {'championId': 7, 'pickTurn': 7}, {'championId': 350, 'pickTurn': 8}, {'championId': 30, 'pickTurn': 9}, {'championId': 119, 'pickTurn': 10}], 'objectives': {'baron': {'first': True, 'kills': 1}, 'champion': {'first': True, 'kills': 26}, 'dragon': {'first': False, 'kills': 2}, 'inhibitor': {'first': True, 'kills': 1}, 'riftHerald': {'first': True, 'kills': 2}, 'tower': {'first': True, 'kills': 8}}, 'teamId': 200, 'win': True}]\n"
     ]
    }
   ],
   "source": [
    "print(teams)"
   ]
  },
  {
   "cell_type": "code",
   "execution_count": null,
   "metadata": {},
   "outputs": [],
   "source": [
    "from confluent_kafka import Producer\n",
    "import json\n",
    "import pandas as pd\n",
    "\n",
    "# Kafka 프로듀서 설정\n",
    "conf = {'bootstrap.servers': \"localhost:9092\"}\n",
    "producer = Producer(**conf)\n",
    "\n",
    "# CSV 파일을 읽어와서 Kafka로 전송\n",
    "csv_filename = 'matches.csv'\n",
    "csv_data = pd.read_csv(csv_filename)\n",
    "\n",
    "def acked(err, msg):\n",
    "    if err is not None:\n",
    "        print(f\"Failed to deliver message: {err}\")\n",
    "    else:\n",
    "        print(f\"Message produced: {msg.value()}\")\n",
    "\n",
    "for index, row in csv_data.iterrows():\n",
    "    message = json.dumps(row.to_dict()).encode('utf-8')\n",
    "    producer.produce('riot-matches', value=message, callback=acked)\n",
    "\n",
    "# 전송된 모든 메시지가 브로커에 전달되도록 보장\n",
    "producer.flush()"
   ]
  },
  {
   "cell_type": "code",
   "execution_count": null,
   "metadata": {},
   "outputs": [],
   "source": [
    "from confluent_kafka import Consumer, KafkaError\n",
    "\n",
    "# Kafka 컨슈머 설정\n",
    "conf = {\n",
    "    'bootstrap.servers': \"localhost:9092\",\n",
    "    'group.id': \"riot-group\",\n",
    "    'auto.offset.reset': 'earliest'\n",
    "}\n",
    "consumer = Consumer(**conf)\n",
    "consumer.subscribe(['riot-matches'])\n",
    "\n",
    "# 메시지 수신 및 처리\n",
    "while True:\n",
    "    msg = consumer.poll(1.0)  # 1초 대기\n",
    "    if msg is None:\n",
    "        continue\n",
    "    if msg.error():\n",
    "        if msg.error().code() == KafkaError._PARTITION_EOF:\n",
    "            # 모든 메시지를 읽은 상태\n",
    "            continue\n",
    "        else:\n",
    "            print(msg.error())\n",
    "            break\n",
    "\n",
    "    message = msg.value().decode('utf-8')\n",
    "    print(f\"Received message: {message}\")\n",
    "\n",
    "consumer.close()"
   ]
  },
  {
   "cell_type": "code",
   "execution_count": null,
   "metadata": {},
   "outputs": [],
   "source": [
    "from confluent_kafka import Consumer, KafkaError\n",
    "from hdfs import InsecureClient\n",
    "import json\n",
    "\n",
    "# Kafka 컨슈머 설정\n",
    "conf = {\n",
    "    'bootstrap.servers': \"localhost:9092\",\n",
    "    'group.id': \"hadoop-group\",\n",
    "    'auto.offset.reset': 'earliest'\n",
    "}\n",
    "consumer = Consumer(**conf)\n",
    "consumer.subscribe(['riot-matches'])\n",
    "\n",
    "# HDFS 클라이언트 설정\n",
    "hdfs_client = InsecureClient('http://localhost:9092', user='hadoop')\n",
    "hdfs_file_path = '/user/hadoop/matches.json'\n",
    "\n",
    "# HDFS에 데이터를 저장할 함수\n",
    "def write_to_hdfs(data):\n",
    "    with hdfs_client.write(hdfs_file_path, encoding='utf-8', overwrite=True) as writer:\n",
    "        writer.write(data)\n",
    "\n",
    "# Kafka에서 메시지 수신 및 HDFS에 저장\n",
    "try:\n",
    "    while True:\n",
    "        msg = consumer.poll(1.0)  # 1초 대기\n",
    "        if msg is None:\n",
    "            continue\n",
    "        if msg.error():\n",
    "            if msg.error().code() == KafkaError._PARTITION_EOF:\n",
    "                # 모든 메시지를 읽은 상태\n",
    "                continue\n",
    "            else:\n",
    "                print(msg.error())\n",
    "                break\n",
    "\n",
    "        message = msg.value().decode('utf-8')\n",
    "        print(f\"Received message: {message}\")\n",
    "        # HDFS에 저장\n",
    "        write_to_hdfs(message)\n",
    "finally:\n",
    "    consumer.close()"
   ]
  },
  {
   "cell_type": "code",
   "execution_count": null,
   "metadata": {},
   "outputs": [],
   "source": []
  }
 ],
 "metadata": {
  "kernelspec": {
   "display_name": "Python 3",
   "language": "python",
   "name": "python3"
  },
  "language_info": {
   "codemirror_mode": {
    "name": "ipython",
    "version": 3
   },
   "file_extension": ".py",
   "mimetype": "text/x-python",
   "name": "python",
   "nbconvert_exporter": "python",
   "pygments_lexer": "ipython3",
   "version": "3.12.4"
  }
 },
 "nbformat": 4,
 "nbformat_minor": 2
}
