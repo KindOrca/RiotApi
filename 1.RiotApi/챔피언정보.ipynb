{
 "cells": [
  {
   "cell_type": "code",
   "execution_count": 19,
   "metadata": {},
   "outputs": [],
   "source": [
    "import requests\n",
    "import pandas as pd\n",
    "\n",
    "data = []\n",
    "url = \"https://ddragon.leagueoflegends.com/cdn/10.6.1/data/ko_KR/champion.json\"\n",
    "req = requests.get(url)\n",
    "items = req.json()['data'].values()\n",
    "idx = 1\n",
    "for item in items:\n",
    "    name_en = item['id']\n",
    "    name_ko = item['name']\n",
    "    title = item['title']\n",
    "    info = item['info']\n",
    "    data.append([idx, name_en, name_ko, title, info])\n",
    "    idx += 1\n",
    "\n",
    "df = pd.DataFrame(data, columns=['ID','영문이름', '한글이름', '이명', '정보'])\n",
    "df.to_excel('champion.xlsx', index=False)"
   ]
  }
 ],
 "metadata": {
  "kernelspec": {
   "display_name": "Python 3",
   "language": "python",
   "name": "python3"
  },
  "language_info": {
   "codemirror_mode": {
    "name": "ipython",
    "version": 3
   },
   "file_extension": ".py",
   "mimetype": "text/x-python",
   "name": "python",
   "nbconvert_exporter": "python",
   "pygments_lexer": "ipython3",
   "version": "3.12.4"
  }
 },
 "nbformat": 4,
 "nbformat_minor": 2
}
